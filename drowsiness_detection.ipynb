{
 "cells": [
  {
   "cell_type": "markdown",
   "id": "04ab1ccc",
   "metadata": {},
   "source": [
    "# Drowsiness Detection with Machine Learning"
   ]
  },
  {
   "cell_type": "code",
   "execution_count": null,
   "id": "a9cea286",
   "metadata": {},
   "outputs": [],
   "source": [
    "# notebook import\n",
    "\n",
    "import os\n",
    "from keras.preprocessing import image\n",
    "import numpy as np\n",
    "from keras.utils.np_utils import to_categorical\n",
    "import random, shutil\n",
    "from keras.models import Sequential\n",
    "from keras.layers import Dropout,Conv2D,Flatten,Dense, MaxPooling2D, BatchNormalization\n",
    "from keras.models import load_model\n"
   ]
  },
  {
   "cell_type": "code",
   "execution_count": null,
   "id": "406d0474",
   "metadata": {},
   "outputs": [],
   "source": [
    "# data generation\n",
    "\n",
    "def generator(dir, gen=image.ImageDataGenerator(rescale=1./255), shuffle=True,batch_size=1,target_size=(24,24),class_mode='categorical' ):\n",
    "\n",
    "    return gen.flow_from_directory(dir,\n",
    "                                   batch_size=batch_size,\n",
    "                                   shuffle=shuffle,\n",
    "                                   color_mode='grayscale',\n",
    "                                   class_mode=class_mode,\n",
    "                                   target_size=target_size)\n",
    "\n",
    "BS= 32\n",
    "TS=(24,24)\n",
    "train_batch= generator('data/train',shuffle=True, batch_size=BS,target_size=TS)\n",
    "valid_batch= generator('data/valid',shuffle=True, batch_size=BS,target_size=TS)\n",
    "SPE= len(train_batch.classes)//BS\n",
    "VS = len(valid_batch.classes)//BS\n",
    "print(SPE,VS)"
   ]
  },
  {
   "cell_type": "code",
   "execution_count": null,
   "id": "d52bfe5a",
   "metadata": {},
   "outputs": [],
   "source": [
    "# model\n",
    "\n",
    "model = Sequential([\n",
    "    Conv2D(32, kernel_size=(3, 3), activation='relu', input_shape=(24,24,1)),\n",
    "    MaxPooling2D(pool_size=(1,1)),\n",
    "    Conv2D(32,(3,3),activation='relu'),\n",
    "    MaxPooling2D(pool_size=(1,1)),\n",
    "    Conv2D(64, (3, 3), activation='relu'),\n",
    "    MaxPooling2D(pool_size=(1,1)),\n",
    "    Dropout(0.25),\n",
    "    Flatten(), \n",
    "    Dense(128, activation='relu'),    \n",
    "    Dropout(0.5),\n",
    "    Dense(2, activation='softmax')\n",
    "])"
   ]
  },
  {
   "cell_type": "code",
   "execution_count": null,
   "id": "0773b457",
   "metadata": {},
   "outputs": [],
   "source": [
    "model.compile(optimizer='adam',loss='categorical_crossentropy',metrics=['accuracy'])\n",
    "\n",
    "model.fit_generator(train_batch, validation_data=valid_batch,epochs=15,steps_per_epoch=SPE ,validation_steps=VS)"
   ]
  },
  {
   "cell_type": "code",
   "execution_count": null,
   "id": "8efe2df6",
   "metadata": {},
   "outputs": [],
   "source": [
    "model.save('model.h5', overwrite=True)"
   ]
  }
 ],
 "metadata": {
  "kernelspec": {
   "display_name": "Python 3",
   "language": "python",
   "name": "python3"
  },
  "language_info": {
   "codemirror_mode": {
    "name": "ipython",
    "version": 3
   },
   "file_extension": ".py",
   "mimetype": "text/x-python",
   "name": "python",
   "nbconvert_exporter": "python",
   "pygments_lexer": "ipython3",
   "version": "3.8.8"
  }
 },
 "nbformat": 4,
 "nbformat_minor": 5
}
